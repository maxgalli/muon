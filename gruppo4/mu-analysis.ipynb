{
 "cells": [
  {
   "cell_type": "markdown",
   "metadata": {},
   "source": [
    "# Title\n",
    "skdfhiuefh\n",
    "sdfsf"
   ]
  },
  {
   "cell_type": "code",
   "execution_count": 1,
   "metadata": {},
   "outputs": [
    {
     "ename": "ModuleNotFoundError",
     "evalue": "No module named 'numpy'",
     "output_type": "error",
     "traceback": [
      "\u001b[0;31m---------------------------------------------------------------------------\u001b[0m",
      "\u001b[0;31mModuleNotFoundError\u001b[0m                       Traceback (most recent call last)",
      "\u001b[0;32m<ipython-input-1-5a8b25eaeb95>\u001b[0m in \u001b[0;36m<module>\u001b[0;34m()\u001b[0m\n\u001b[0;32m----> 1\u001b[0;31m \u001b[0;32mimport\u001b[0m \u001b[0mnumpy\u001b[0m \u001b[0;32mas\u001b[0m \u001b[0mnp\u001b[0m\u001b[0;34m\u001b[0m\u001b[0m\n\u001b[0m\u001b[1;32m      2\u001b[0m \u001b[0;32mimport\u001b[0m \u001b[0mmatplotlib\u001b[0m\u001b[0;34m\u001b[0m\u001b[0m\n\u001b[1;32m      3\u001b[0m \u001b[0;32mimport\u001b[0m \u001b[0mmatplotlib\u001b[0m\u001b[0;34m.\u001b[0m\u001b[0mpyplot\u001b[0m \u001b[0;32mas\u001b[0m \u001b[0mplt\u001b[0m\u001b[0;34m\u001b[0m\u001b[0m\n\u001b[1;32m      4\u001b[0m \u001b[0;32mfrom\u001b[0m \u001b[0mmatplotlib\u001b[0m \u001b[0;32mimport\u001b[0m \u001b[0mgridspec\u001b[0m            \u001b[0;31m# to arrange the plots nicely\u001b[0m\u001b[0;34m\u001b[0m\u001b[0m\n\u001b[1;32m      5\u001b[0m \u001b[0;32mimport\u001b[0m \u001b[0mpandas\u001b[0m \u001b[0;32mas\u001b[0m \u001b[0mpd\u001b[0m\u001b[0;34m\u001b[0m\u001b[0m\n",
      "\u001b[0;31mModuleNotFoundError\u001b[0m: No module named 'numpy'"
     ]
    }
   ],
   "source": [
    "import numpy as np\n",
    "import matplotlib\n",
    "import matplotlib.pyplot as plt\n",
    "from matplotlib import gridspec            # to arrange the plots nicely\n",
    "import pandas as pd\n",
    "\n",
    "%matplotlib inline"
   ]
  },
  {
   "cell_type": "code",
   "execution_count": 2,
   "metadata": {},
   "outputs": [
    {
     "ename": "NameError",
     "evalue": "name 'pd' is not defined",
     "output_type": "error",
     "traceback": [
      "\u001b[0;31m---------------------------------------------------------------------------\u001b[0m",
      "\u001b[0;31mNameError\u001b[0m                                 Traceback (most recent call last)",
      "\u001b[0;32m<ipython-input-2-9ea183dd2c21>\u001b[0m in \u001b[0;36m<module>\u001b[0;34m()\u001b[0m\n\u001b[1;32m      2\u001b[0m \u001b[0;31m# Load txt file to pandas dataframe\u001b[0m\u001b[0;34m\u001b[0m\u001b[0;34m\u001b[0m\u001b[0m\n\u001b[1;32m      3\u001b[0m \u001b[0;31m#=====================================\u001b[0m\u001b[0;34m\u001b[0m\u001b[0;34m\u001b[0m\u001b[0m\n\u001b[0;32m----> 4\u001b[0;31m data = pd.read_csv('analisi/mu-g4.txt', sep='\\t', names=['tdc11', 'tdc12', 'tdc13', 'tdc14', 'tdc15', 'tdc16', 'tdc17', 'tdc18',\n\u001b[0m\u001b[1;32m      5\u001b[0m                                                         \u001b[0;34m'tdc21'\u001b[0m\u001b[0;34m,\u001b[0m \u001b[0;34m'tdc22'\u001b[0m\u001b[0;34m,\u001b[0m \u001b[0;34m'tdc23'\u001b[0m\u001b[0;34m,\u001b[0m \u001b[0;34m'tdc24'\u001b[0m\u001b[0;34m,\u001b[0m \u001b[0;34m'tdc25'\u001b[0m\u001b[0;34m,\u001b[0m \u001b[0;34m'tdc26'\u001b[0m\u001b[0;34m,\u001b[0m \u001b[0;34m'tdc27'\u001b[0m\u001b[0;34m,\u001b[0m \u001b[0;34m'tdc28'\u001b[0m\u001b[0;34m,\u001b[0m\u001b[0;34m\u001b[0m\u001b[0m\n\u001b[1;32m      6\u001b[0m                                                        ])\n",
      "\u001b[0;31mNameError\u001b[0m: name 'pd' is not defined"
     ]
    }
   ],
   "source": [
    "#=====================================\n",
    "# Load txt file to pandas dataframe\n",
    "#=====================================\n",
    "data = pd.read_csv('analisi/mu-g4.txt', sep='\\t', names=['tdc11', 'tdc12', 'tdc13', 'tdc14', 'tdc15', 'tdc16', 'tdc17', 'tdc18',\n",
    "                                                        'tdc21', 'tdc22', 'tdc23', 'tdc24', 'tdc25', 'tdc26', 'tdc27', 'tdc28',\n",
    "                                                       ])\n",
    "data = data.rename(columns={'tdc11' : 'p0_1',\n",
    "                            'tdc12' : 'p1_1',\n",
    "                            'tdc13' : 'p2_1',\n",
    "                            'tdc14' : 'start2',\n",
    "                            'tdc24' : 'p0_2',\n",
    "                            'tdc25' : 'p1_2',\n",
    "                            'tdc26' : 'p2_2',\n",
    "                            'tdc23' : 'stop2',\n",
    "                           })\n",
    "print('Total number of events:', len(data))\n",
    "data.head()"
   ]
  },
  {
   "cell_type": "code",
   "execution_count": 87,
   "metadata": {},
   "outputs": [],
   "source": [
    "#=====================================\n",
    "# Convert tdc units into ns\n",
    "#=====================================\n",
    "def tdc_to_ns(tdc_unit, a=5000/4095, b=0):\n",
    "    ns = tdc_unit * a + b\n",
    "    return ns\n",
    "\n",
    "#=====================================\n",
    "# Only one valide time for each detector\n",
    "#=====================================\n",
    "def merge_time_p0(data):\n",
    "    if data['p0_1']==4095:\n",
    "        return data['p0_2_ns']\n",
    "    else:\n",
    "        return data['p0_1_ns']\n",
    "\n",
    "def merge_time_p1(data):\n",
    "    if data['p1_1']==4095:\n",
    "        return data['p1_2_ns']\n",
    "    else:\n",
    "        return data['p1_1_ns']\n",
    "    \n",
    "def merge_time_p2(data):\n",
    "    if data['p2_1']==4095:\n",
    "        return data['p2_2_ns']\n",
    "    else:\n",
    "        return data['p2_1_ns']\n",
    "\n",
    "\n",
    "#=====================================\n",
    "# Add actual time variables to the dataframe\n",
    "#=====================================\n",
    "def conv_time(data):\n",
    "    df = data\n",
    "    df.start2 = tdc_to_ns(df.start2)\n",
    "    df['p0_1_ns'] = tdc_to_ns(df.p0_1)\n",
    "    df['p1_1_ns'] = tdc_to_ns(df.p1_1)\n",
    "    df['p2_1_ns'] = tdc_to_ns(df.p2_1)\n",
    "    df['p0_2_ns'] = tdc_to_ns(df.p0_2) + data.start2\n",
    "    df['p1_2_ns'] = tdc_to_ns(df.p1_2) + data.start2\n",
    "    df['p2_2_ns'] = tdc_to_ns(df.p2_2) + data.start2\n",
    "    \n",
    "    df['p0_time'] = df.apply(lambda df: merge_time_p0(df),axis=1)\n",
    "    df['p1_time'] = df.apply(lambda df: merge_time_p1(df),axis=1)\n",
    "    df['p2_time'] = df.apply(lambda df: merge_time_p2(df),axis=1)\n",
    "    return df\n",
    "\n",
    "\n"
   ]
  },
  {
   "cell_type": "code",
   "execution_count": 88,
   "metadata": {},
   "outputs": [],
   "source": [
    "#=====================================\n",
    "# Data selection cuts\n",
    "#=====================================\n",
    "\n",
    "def cut_p0(data):\n",
    "    cut = ((data.p0_1!=4095) | (data.p0_2!=4095)) & ((data.p1_1==4095) & (data.p1_2==4095)  & (data.p2_1==4095) & (data.p2_2==4095))\n",
    "    p0 = data[cut]\n",
    "    #p0 = p0.rename(columns={'p0_1': 'time_tdc1', 'p0_2': 'time_tdc2'})\n",
    "    #p0 = p0[['tdc1','tdc2']]\n",
    "    return p0\n",
    "\n",
    "def cut_p1(data):\n",
    "    cut = ((data.p1_1!=4095) | (data.p1_2!=4095)) & ((data.p0_1==4095) & (data.p0_2==4095)  & (data.p2_1==4095) & (data.p2_2==4095))\n",
    "    p1 = data[cut]\n",
    "    #p1 = p1.rename(columns={'p1_1': 'time_tdc1', 'p1_2': 'time_tdc2'})\n",
    "    #p1 = p1[['tdc1','tdc2']]\n",
    "    return p1\n",
    "\n",
    "def cut_p2(data):\n",
    "    cut = ((data.p2_1!=4095) | (data.p2_2!=4095)) & ((data.p1_1==4095) & (data.p1_2==4095)  & (data.p0_1==4095) & (data.p0_2==4095))\n",
    "    p2 = data[cut]\n",
    "    #p2 = p2.rename(columns={'p2_1': 'time_tdc1', 'p2_2': 'time_tdc2'})\n",
    "    #p2 = p2[['tdc1','tdc2']]\n",
    "    return p2"
   ]
  },
  {
   "cell_type": "code",
   "execution_count": 89,
   "metadata": {},
   "outputs": [
    {
     "name": "stderr",
     "output_type": "stream",
     "text": [
      "/Users/digangi/anaconda/lib/python3.5/site-packages/pandas/core/generic.py:3110: SettingWithCopyWarning: \n",
      "A value is trying to be set on a copy of a slice from a DataFrame.\n",
      "Try using .loc[row_indexer,col_indexer] = value instead\n",
      "\n",
      "See the caveats in the documentation: http://pandas.pydata.org/pandas-docs/stable/indexing.html#indexing-view-versus-copy\n",
      "  self[name] = value\n",
      "/Users/digangi/anaconda/lib/python3.5/site-packages/ipykernel/__main__.py:36: SettingWithCopyWarning: \n",
      "A value is trying to be set on a copy of a slice from a DataFrame.\n",
      "Try using .loc[row_indexer,col_indexer] = value instead\n",
      "\n",
      "See the caveats in the documentation: http://pandas.pydata.org/pandas-docs/stable/indexing.html#indexing-view-versus-copy\n",
      "/Users/digangi/anaconda/lib/python3.5/site-packages/ipykernel/__main__.py:37: SettingWithCopyWarning: \n",
      "A value is trying to be set on a copy of a slice from a DataFrame.\n",
      "Try using .loc[row_indexer,col_indexer] = value instead\n",
      "\n",
      "See the caveats in the documentation: http://pandas.pydata.org/pandas-docs/stable/indexing.html#indexing-view-versus-copy\n",
      "/Users/digangi/anaconda/lib/python3.5/site-packages/ipykernel/__main__.py:38: SettingWithCopyWarning: \n",
      "A value is trying to be set on a copy of a slice from a DataFrame.\n",
      "Try using .loc[row_indexer,col_indexer] = value instead\n",
      "\n",
      "See the caveats in the documentation: http://pandas.pydata.org/pandas-docs/stable/indexing.html#indexing-view-versus-copy\n",
      "/Users/digangi/anaconda/lib/python3.5/site-packages/ipykernel/__main__.py:39: SettingWithCopyWarning: \n",
      "A value is trying to be set on a copy of a slice from a DataFrame.\n",
      "Try using .loc[row_indexer,col_indexer] = value instead\n",
      "\n",
      "See the caveats in the documentation: http://pandas.pydata.org/pandas-docs/stable/indexing.html#indexing-view-versus-copy\n",
      "/Users/digangi/anaconda/lib/python3.5/site-packages/ipykernel/__main__.py:40: SettingWithCopyWarning: \n",
      "A value is trying to be set on a copy of a slice from a DataFrame.\n",
      "Try using .loc[row_indexer,col_indexer] = value instead\n",
      "\n",
      "See the caveats in the documentation: http://pandas.pydata.org/pandas-docs/stable/indexing.html#indexing-view-versus-copy\n",
      "/Users/digangi/anaconda/lib/python3.5/site-packages/ipykernel/__main__.py:41: SettingWithCopyWarning: \n",
      "A value is trying to be set on a copy of a slice from a DataFrame.\n",
      "Try using .loc[row_indexer,col_indexer] = value instead\n",
      "\n",
      "See the caveats in the documentation: http://pandas.pydata.org/pandas-docs/stable/indexing.html#indexing-view-versus-copy\n",
      "/Users/digangi/anaconda/lib/python3.5/site-packages/ipykernel/__main__.py:43: SettingWithCopyWarning: \n",
      "A value is trying to be set on a copy of a slice from a DataFrame.\n",
      "Try using .loc[row_indexer,col_indexer] = value instead\n",
      "\n",
      "See the caveats in the documentation: http://pandas.pydata.org/pandas-docs/stable/indexing.html#indexing-view-versus-copy\n",
      "/Users/digangi/anaconda/lib/python3.5/site-packages/ipykernel/__main__.py:44: SettingWithCopyWarning: \n",
      "A value is trying to be set on a copy of a slice from a DataFrame.\n",
      "Try using .loc[row_indexer,col_indexer] = value instead\n",
      "\n",
      "See the caveats in the documentation: http://pandas.pydata.org/pandas-docs/stable/indexing.html#indexing-view-versus-copy\n",
      "/Users/digangi/anaconda/lib/python3.5/site-packages/ipykernel/__main__.py:45: SettingWithCopyWarning: \n",
      "A value is trying to be set on a copy of a slice from a DataFrame.\n",
      "Try using .loc[row_indexer,col_indexer] = value instead\n",
      "\n",
      "See the caveats in the documentation: http://pandas.pydata.org/pandas-docs/stable/indexing.html#indexing-view-versus-copy\n"
     ]
    },
    {
     "name": "stdout",
     "output_type": "stream",
     "text": [
      "Total numer of triggers: 238658\n",
      "Total numer of valid events: 3513\n"
     ]
    },
    {
     "data": {
      "text/html": [
       "<div>\n",
       "<style>\n",
       "    .dataframe thead tr:only-child th {\n",
       "        text-align: right;\n",
       "    }\n",
       "\n",
       "    .dataframe thead th {\n",
       "        text-align: left;\n",
       "    }\n",
       "\n",
       "    .dataframe tbody tr th {\n",
       "        vertical-align: top;\n",
       "    }\n",
       "</style>\n",
       "<table border=\"1\" class=\"dataframe\">\n",
       "  <thead>\n",
       "    <tr style=\"text-align: right;\">\n",
       "      <th></th>\n",
       "      <th>tdc11</th>\n",
       "      <th>tdc12</th>\n",
       "      <th>tdc13</th>\n",
       "      <th>tdc14</th>\n",
       "      <th>p0_1</th>\n",
       "      <th>p1_1</th>\n",
       "      <th>p2_1</th>\n",
       "      <th>start2</th>\n",
       "      <th>tdc21</th>\n",
       "      <th>tdc22</th>\n",
       "      <th>...</th>\n",
       "      <th>fake2</th>\n",
       "      <th>p0_1_ns</th>\n",
       "      <th>p1_1_ns</th>\n",
       "      <th>p2_1_ns</th>\n",
       "      <th>p0_2_ns</th>\n",
       "      <th>p1_2_ns</th>\n",
       "      <th>p2_2_ns</th>\n",
       "      <th>p0_time</th>\n",
       "      <th>p1_time</th>\n",
       "      <th>p2_time</th>\n",
       "    </tr>\n",
       "  </thead>\n",
       "  <tbody>\n",
       "    <tr>\n",
       "      <th>0</th>\n",
       "      <td>4095</td>\n",
       "      <td>4095</td>\n",
       "      <td>4095</td>\n",
       "      <td>4095</td>\n",
       "      <td>4095</td>\n",
       "      <td>4095</td>\n",
       "      <td>4095</td>\n",
       "      <td>4308.913309</td>\n",
       "      <td>4095</td>\n",
       "      <td>4095</td>\n",
       "      <td>...</td>\n",
       "      <td>NaN</td>\n",
       "      <td>5000.0</td>\n",
       "      <td>5000.0</td>\n",
       "      <td>5000.0</td>\n",
       "      <td>9308.913309</td>\n",
       "      <td>9308.913309</td>\n",
       "      <td>9308.913309</td>\n",
       "      <td>9308.913309</td>\n",
       "      <td>9308.913309</td>\n",
       "      <td>9308.913309</td>\n",
       "    </tr>\n",
       "    <tr>\n",
       "      <th>1</th>\n",
       "      <td>4095</td>\n",
       "      <td>4095</td>\n",
       "      <td>4095</td>\n",
       "      <td>4095</td>\n",
       "      <td>4095</td>\n",
       "      <td>4095</td>\n",
       "      <td>4095</td>\n",
       "      <td>4310.134310</td>\n",
       "      <td>4095</td>\n",
       "      <td>4095</td>\n",
       "      <td>...</td>\n",
       "      <td>NaN</td>\n",
       "      <td>5000.0</td>\n",
       "      <td>5000.0</td>\n",
       "      <td>5000.0</td>\n",
       "      <td>9310.134310</td>\n",
       "      <td>9310.134310</td>\n",
       "      <td>9310.134310</td>\n",
       "      <td>9310.134310</td>\n",
       "      <td>9310.134310</td>\n",
       "      <td>9310.134310</td>\n",
       "    </tr>\n",
       "    <tr>\n",
       "      <th>2</th>\n",
       "      <td>4095</td>\n",
       "      <td>4095</td>\n",
       "      <td>4095</td>\n",
       "      <td>4095</td>\n",
       "      <td>4095</td>\n",
       "      <td>4095</td>\n",
       "      <td>4095</td>\n",
       "      <td>4308.913309</td>\n",
       "      <td>4095</td>\n",
       "      <td>4095</td>\n",
       "      <td>...</td>\n",
       "      <td>NaN</td>\n",
       "      <td>5000.0</td>\n",
       "      <td>5000.0</td>\n",
       "      <td>5000.0</td>\n",
       "      <td>9308.913309</td>\n",
       "      <td>9308.913309</td>\n",
       "      <td>9308.913309</td>\n",
       "      <td>9308.913309</td>\n",
       "      <td>9308.913309</td>\n",
       "      <td>9308.913309</td>\n",
       "    </tr>\n",
       "    <tr>\n",
       "      <th>3</th>\n",
       "      <td>4095</td>\n",
       "      <td>4095</td>\n",
       "      <td>4095</td>\n",
       "      <td>4095</td>\n",
       "      <td>4095</td>\n",
       "      <td>4095</td>\n",
       "      <td>4095</td>\n",
       "      <td>4308.913309</td>\n",
       "      <td>4095</td>\n",
       "      <td>4095</td>\n",
       "      <td>...</td>\n",
       "      <td>NaN</td>\n",
       "      <td>5000.0</td>\n",
       "      <td>5000.0</td>\n",
       "      <td>5000.0</td>\n",
       "      <td>9308.913309</td>\n",
       "      <td>9308.913309</td>\n",
       "      <td>9308.913309</td>\n",
       "      <td>9308.913309</td>\n",
       "      <td>9308.913309</td>\n",
       "      <td>9308.913309</td>\n",
       "    </tr>\n",
       "    <tr>\n",
       "      <th>4</th>\n",
       "      <td>4095</td>\n",
       "      <td>4095</td>\n",
       "      <td>4095</td>\n",
       "      <td>4095</td>\n",
       "      <td>4095</td>\n",
       "      <td>4095</td>\n",
       "      <td>4095</td>\n",
       "      <td>4308.913309</td>\n",
       "      <td>4095</td>\n",
       "      <td>4095</td>\n",
       "      <td>...</td>\n",
       "      <td>NaN</td>\n",
       "      <td>5000.0</td>\n",
       "      <td>5000.0</td>\n",
       "      <td>5000.0</td>\n",
       "      <td>9308.913309</td>\n",
       "      <td>9308.913309</td>\n",
       "      <td>9308.913309</td>\n",
       "      <td>9308.913309</td>\n",
       "      <td>9308.913309</td>\n",
       "      <td>9308.913309</td>\n",
       "    </tr>\n",
       "  </tbody>\n",
       "</table>\n",
       "<p>5 rows × 27 columns</p>\n",
       "</div>"
      ],
      "text/plain": [
       "   tdc11  tdc12  tdc13  tdc14  p0_1  p1_1  p2_1       start2  tdc21  tdc22  \\\n",
       "0   4095   4095   4095   4095  4095  4095  4095  4308.913309   4095   4095   \n",
       "1   4095   4095   4095   4095  4095  4095  4095  4310.134310   4095   4095   \n",
       "2   4095   4095   4095   4095  4095  4095  4095  4308.913309   4095   4095   \n",
       "3   4095   4095   4095   4095  4095  4095  4095  4308.913309   4095   4095   \n",
       "4   4095   4095   4095   4095  4095  4095  4095  4308.913309   4095   4095   \n",
       "\n",
       "      ...       fake2  p0_1_ns  p1_1_ns  p2_1_ns      p0_2_ns      p1_2_ns  \\\n",
       "0     ...         NaN   5000.0   5000.0   5000.0  9308.913309  9308.913309   \n",
       "1     ...         NaN   5000.0   5000.0   5000.0  9310.134310  9310.134310   \n",
       "2     ...         NaN   5000.0   5000.0   5000.0  9308.913309  9308.913309   \n",
       "3     ...         NaN   5000.0   5000.0   5000.0  9308.913309  9308.913309   \n",
       "4     ...         NaN   5000.0   5000.0   5000.0  9308.913309  9308.913309   \n",
       "\n",
       "       p2_2_ns      p0_time      p1_time      p2_time  \n",
       "0  9308.913309  9308.913309  9308.913309  9308.913309  \n",
       "1  9310.134310  9310.134310  9310.134310  9310.134310  \n",
       "2  9308.913309  9308.913309  9308.913309  9308.913309  \n",
       "3  9308.913309  9308.913309  9308.913309  9308.913309  \n",
       "4  9308.913309  9308.913309  9308.913309  9308.913309  \n",
       "\n",
       "[5 rows x 27 columns]"
      ]
     },
     "execution_count": 89,
     "metadata": {},
     "output_type": "execute_result"
    }
   ],
   "source": [
    "#=====================================\n",
    "# Apply first selection and add time variables to main dataframe\n",
    "#=====================================\n",
    "\n",
    "df = data[(data.p0_1!=4095) | (data.p0_2!=4095) | (data.p1_1!=4095) | (data.p1_2!=4095) | (data.p2_1!=4095) | (data.p2_2!=4095)]\n",
    "df = conv_time(df)\n",
    "print('Total numer of triggers:', len(data))\n",
    "print('Total numer of valid events:', len(df))\n",
    "df_all.head()"
   ]
  },
  {
   "cell_type": "code",
   "execution_count": 91,
   "metadata": {},
   "outputs": [
    {
     "name": "stdout",
     "output_type": "stream",
     "text": [
      "P0 events: 174\n"
     ]
    },
    {
     "data": {
      "image/png": "[encoded data removed]",
      "text/plain": [
       "<matplotlib.figure.Figure at 0x123228630>"
      ]
     },
     "metadata": {},
     "output_type": "display_data"
    }
   ],
   "source": [
    "p0 = cut_p0(df_all)\n",
    "p0 = p0['p0_time']\n",
    "print('P0 events:', len(p0))\n",
    "\n",
    "plt.hist(p0, bins=10)\n",
    "plt.xlabel('Time [ns]')\n",
    "plt.ylabel('Events')\n",
    "plt.show()"
   ]
  },
  {
   "cell_type": "code",
   "execution_count": 93,
   "metadata": {},
   "outputs": [
    {
     "name": "stdout",
     "output_type": "stream",
     "text": [
      "P1 events: 3412\n"
     ]
    },
    {
     "data": {
      "image/png": "[encoded data removed]",
      "text/plain": [
       "<matplotlib.figure.Figure at 0x1238429b0>"
      ]
     },
     "metadata": {},
     "output_type": "display_data"
    }
   ],
   "source": [
    "p1 = cut_p1(df_all)\n",
    "p1 = p1['p1_time']\n",
    "print('P1 events:', len(p1))\n",
    "\n",
    "plt.hist(p1, bins=100)\n",
    "plt.xlabel('Time [ns]')\n",
    "plt.ylabel('Events')\n",
    "plt.show()"
   ]
  },
  {
   "cell_type": "code",
   "execution_count": 94,
   "metadata": {},
   "outputs": [
    {
     "name": "stdout",
     "output_type": "stream",
     "text": [
      "P2 events: 367\n"
     ]
    },
    {
     "data": {
      "image/png": "[encoded data removed]",
      "text/plain": [
       "<matplotlib.figure.Figure at 0x123616550>"
      ]
     },
     "metadata": {},
     "output_type": "display_data"
    }
   ],
   "source": [
    "p2 = cut_p2(df_all)\n",
    "p2 = p2['p2_time']\n",
    "print('P2 events:', len(p2))\n",
    "\n",
    "plt.hist(p2, bins=20, label='P2')\n",
    "plt.xlabel('Time [ns]')\n",
    "plt.ylabel('Events')\n",
    "plt.legend()\n",
    "plt.show()"
   ]
  },
  {
   "cell_type": "code",
   "execution_count": 95,
   "metadata": {},
   "outputs": [
    {
     "data": {
      "image/png": "[encoded data removed]",
      "text/plain": [
       "<matplotlib.figure.Figure at 0x12296c5c0>"
      ]
     },
     "metadata": {},
     "output_type": "display_data"
    }
   ],
   "source": [
    "plt.hist(p0, bins=25, range=(0,10000), histtype='step', lw=3, label='P0')\n",
    "plt.hist(p1, bins=25, range=(0,10000), histtype='step', lw=3, label='P1')\n",
    "plt.hist(p2, bins=25, range=(0,10000), histtype='step', lw=3, label='P2')\n",
    "plt.yscale('log')\n",
    "plt.xlabel('Time [ns]')\n",
    "plt.ylabel('Events')\n",
    "plt.legend()\n",
    "plt.show()"
   ]
  },
  {
   "cell_type": "code",
   "execution_count": null,
   "metadata": {
    "collapsed": true
   },
   "outputs": [],
   "source": []
  }
 ],
 "metadata": {
  "kernelspec": {
   "display_name": "Python 3",
   "language": "python",
   "name": "python3"
  },
  "language_info": {
   "codemirror_mode": {
    "name": "ipython",
    "version": 3
   },
   "file_extension": ".py",
   "mimetype": "text/x-python",
   "name": "python",
   "nbconvert_exporter": "python",
   "pygments_lexer": "ipython3",
   "version": "3.6.4"
  }
 },
 "nbformat": 4,
 "nbformat_minor": 2
}
