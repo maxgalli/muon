{
 "cells": [
  {
   "cell_type": "code",
   "execution_count": 83,
   "metadata": {},
   "outputs": [],
   "source": [
    "import numpy as np\n",
    "import matplotlib\n",
    "import matplotlib.pyplot as plt\n",
    "from matplotlib import gridspec            # to arrange the plots nicely\n",
    "import pandas as pd\n",
    "\n",
    "%matplotlib inline"
   ]
  },
  {
   "cell_type": "code",
   "execution_count": 108,
   "metadata": {},
   "outputs": [
    {
     "name": "stdout",
     "output_type": "stream",
     "text": [
      "Total number of events: 1014917\n"
     ]
    }
   ],
   "source": [
    "#=====================================\n",
    "# Load txt file to pandas dataframe\n",
    "#=====================================\n",
    "data_raw = pd.read_csv('mu-g4.txt', sep='\\t', names=['tdc11', 'tdc12', 'tdc13', 'tdc14', 'tdc15', 'tdc16', 'tdc17', 'tdc18',\n",
    "                                                        'tdc21', 'tdc22', 'tdc23', 'tdc24', 'tdc25', 'tdc26', 'tdc27', 'tdc28',\n",
    "                                                       ])\n",
    "data_raw = data_raw.rename(columns={'tdc11' : 'p0_1',\n",
    "                            'tdc12' : 'p1_1',\n",
    "                            'tdc13' : 'p2_1',\n",
    "                            'tdc14' : 'start2',\n",
    "                            'tdc24' : 'p0_2',\n",
    "                            'tdc25' : 'p1_2',\n",
    "                            'tdc26' : 'p2_2',\n",
    "                            'tdc23' : 'stop2',\n",
    "                           })\n",
    "print('Total number of events:', len(data_raw))\n",
    "#data_raw.head()"
   ]
  },
  {
   "cell_type": "code",
   "execution_count": 86,
   "metadata": {},
   "outputs": [],
   "source": [
    "# keeps only necessary\n",
    "\n",
    "data = data_raw[['p0_1','p1_1','p2_1','start2','p0_2','p1_2','p2_2','stop2']]\n",
    "#data.head()"
   ]
  },
  {
   "cell_type": "code",
   "execution_count": 87,
   "metadata": {},
   "outputs": [],
   "source": [
    "# loads fitted parameters from parameters.txt\n",
    "\n",
    "par=pd.read_csv('parameters.txt', sep=' ', names=['tdc','a','b'])\n",
    "df_par=par.set_index('tdc')\n",
    "#df_par.head()"
   ]
  },
  {
   "cell_type": "code",
   "execution_count": null,
   "metadata": {},
   "outputs": [],
   "source": []
  },
  {
   "cell_type": "code",
   "execution_count": 88,
   "metadata": {},
   "outputs": [],
   "source": [
    "#=====================================\n",
    "# Convert tdc units into ns\n",
    "#=====================================\n",
    "def tdc_to_ns(channel, tdc_unit):\n",
    "    ns = (tdc_unit - df_par.loc[channel, 'b']) / df_par.loc[channel, 'a']\n",
    "    return ns\n",
    "\n",
    "#=====================================\n",
    "# Only one valide time for each detector\n",
    "#=====================================\n",
    "def merge_time(d,number):\n",
    "    if (d['p%i_1'%(number)]==4095):\n",
    "        return d['p%i_2_ns'%(number)]\n",
    "    else:\n",
    "        return d['p%i_1_ns'%(number)]\n",
    "    \n",
    "#=====================================\n",
    "# Add actual time variables to the dataframe\n",
    "#=====================================\n",
    "def conv_time(d):\n",
    "    d['start2_ns'] = tdc_to_ns('tdc14', d.start2)\n",
    "    d['p0_1_ns'] = tdc_to_ns('tdc11', d.p0_1)\n",
    "    d['p1_1_ns'] = tdc_to_ns('tdc12', d.p1_1)\n",
    "    d['p2_1_ns'] = tdc_to_ns('tdc13', d.p2_1)\n",
    "    d['p0_2_ns'] = tdc_to_ns('tdc24', d.p0_2) + d.start2\n",
    "    d['p1_2_ns'] = tdc_to_ns('tdc25', d.p1_2) + d.start2\n",
    "    d['p2_2_ns'] = tdc_to_ns('tdc26', d.p2_2) + d.start2\n",
    "    \n",
    "    d['p0_time'] = d.apply(lambda d: merge_time(d,0),axis=1)\n",
    "    d['p1_time'] = d.apply(lambda d: merge_time(d,1),axis=1)\n",
    "    d['p2_time'] = d.apply(lambda d: merge_time(d,2),axis=1)\n",
    "    return d"
   ]
  },
  {
   "cell_type": "code",
   "execution_count": 116,
   "metadata": {},
   "outputs": [],
   "source": [
    "#=====================================\n",
    "# Data selection cuts\n",
    "#=====================================\n",
    "\n",
    "# eventi sui singoli piani\n",
    "def cut_p0(data):\n",
    "    cut = ((data.p0_1!=4095) | (data.p0_2!=4095)) & ((data.p1_1==4095) & (data.p1_2==4095)  & (data.p2_1==4095) & (data.p2_2==4095))\n",
    "    p0 = data[cut]\n",
    "    #p0 = p0.rename(columns={'p0_1': 'time_tdc1', 'p0_2': 'time_tdc2'})\n",
    "    #p0 = p0[['tdc1','tdc2']]\n",
    "    return p0\n",
    "\n",
    "def cut_p1(data):\n",
    "    cut = ((data.p1_1!=4095) | (data.p1_2!=4095)) & ((data.p0_1==4095) & (data.p0_2==4095)  & (data.p2_1==4095) & (data.p2_2==4095))\n",
    "    p1 = data[cut]\n",
    "    #p1 = p1.rename(columns={'p1_1': 'time_tdc1', 'p1_2': 'time_tdc2'})\n",
    "    #p1 = p1[['tdc1','tdc2']]\n",
    "    return p1\n",
    "\n",
    "def cut_p2(data):\n",
    "    cut = ((data.p2_1!=4095) | (data.p2_2!=4095)) & ((data.p1_1==4095) & (data.p1_2==4095)  & (data.p0_1==4095) & (data.p0_2==4095))\n",
    "    p2 = data[cut]\n",
    "    #p2 = p2.rename(columns={'p2_1': 'time_tdc1', 'p2_2': 'time_tdc2'})\n",
    "    #p2 = p2[['tdc1','tdc2']]\n",
    "    return p2\n",
    "\n",
    "# buoni\n",
    "# segnale su 1 ma non su 2, 0 indifferente \n",
    "def cut_muon_soft(data):\n",
    "    cut = ((data.p1_1!=4095) | (data.p1_2!=4095)) & (data.p2_1==4095) & (data.p2_2==4095)\n",
    "    ms=data[cut]\n",
    "    return ms\n",
    "\n"
   ]
  },
  {
   "cell_type": "code",
   "execution_count": 93,
   "metadata": {},
   "outputs": [
    {
     "name": "stderr",
     "output_type": "stream",
     "text": [
      "/Library/Frameworks/Python.framework/Versions/3.6/lib/python3.6/site-packages/ipykernel_launcher.py:21: SettingWithCopyWarning: \n",
      "A value is trying to be set on a copy of a slice from a DataFrame.\n",
      "Try using .loc[row_indexer,col_indexer] = value instead\n",
      "\n",
      "See the caveats in the documentation: http://pandas.pydata.org/pandas-docs/stable/indexing.html#indexing-view-versus-copy\n",
      "/Library/Frameworks/Python.framework/Versions/3.6/lib/python3.6/site-packages/ipykernel_launcher.py:22: SettingWithCopyWarning: \n",
      "A value is trying to be set on a copy of a slice from a DataFrame.\n",
      "Try using .loc[row_indexer,col_indexer] = value instead\n",
      "\n",
      "See the caveats in the documentation: http://pandas.pydata.org/pandas-docs/stable/indexing.html#indexing-view-versus-copy\n",
      "/Library/Frameworks/Python.framework/Versions/3.6/lib/python3.6/site-packages/ipykernel_launcher.py:23: SettingWithCopyWarning: \n",
      "A value is trying to be set on a copy of a slice from a DataFrame.\n",
      "Try using .loc[row_indexer,col_indexer] = value instead\n",
      "\n",
      "See the caveats in the documentation: http://pandas.pydata.org/pandas-docs/stable/indexing.html#indexing-view-versus-copy\n",
      "/Library/Frameworks/Python.framework/Versions/3.6/lib/python3.6/site-packages/ipykernel_launcher.py:24: SettingWithCopyWarning: \n",
      "A value is trying to be set on a copy of a slice from a DataFrame.\n",
      "Try using .loc[row_indexer,col_indexer] = value instead\n",
      "\n",
      "See the caveats in the documentation: http://pandas.pydata.org/pandas-docs/stable/indexing.html#indexing-view-versus-copy\n",
      "/Library/Frameworks/Python.framework/Versions/3.6/lib/python3.6/site-packages/ipykernel_launcher.py:25: SettingWithCopyWarning: \n",
      "A value is trying to be set on a copy of a slice from a DataFrame.\n",
      "Try using .loc[row_indexer,col_indexer] = value instead\n",
      "\n",
      "See the caveats in the documentation: http://pandas.pydata.org/pandas-docs/stable/indexing.html#indexing-view-versus-copy\n",
      "/Library/Frameworks/Python.framework/Versions/3.6/lib/python3.6/site-packages/ipykernel_launcher.py:26: SettingWithCopyWarning: \n",
      "A value is trying to be set on a copy of a slice from a DataFrame.\n",
      "Try using .loc[row_indexer,col_indexer] = value instead\n",
      "\n",
      "See the caveats in the documentation: http://pandas.pydata.org/pandas-docs/stable/indexing.html#indexing-view-versus-copy\n",
      "/Library/Frameworks/Python.framework/Versions/3.6/lib/python3.6/site-packages/ipykernel_launcher.py:27: SettingWithCopyWarning: \n",
      "A value is trying to be set on a copy of a slice from a DataFrame.\n",
      "Try using .loc[row_indexer,col_indexer] = value instead\n",
      "\n",
      "See the caveats in the documentation: http://pandas.pydata.org/pandas-docs/stable/indexing.html#indexing-view-versus-copy\n",
      "/Library/Frameworks/Python.framework/Versions/3.6/lib/python3.6/site-packages/ipykernel_launcher.py:29: SettingWithCopyWarning: \n",
      "A value is trying to be set on a copy of a slice from a DataFrame.\n",
      "Try using .loc[row_indexer,col_indexer] = value instead\n",
      "\n",
      "See the caveats in the documentation: http://pandas.pydata.org/pandas-docs/stable/indexing.html#indexing-view-versus-copy\n",
      "/Library/Frameworks/Python.framework/Versions/3.6/lib/python3.6/site-packages/ipykernel_launcher.py:30: SettingWithCopyWarning: \n",
      "A value is trying to be set on a copy of a slice from a DataFrame.\n",
      "Try using .loc[row_indexer,col_indexer] = value instead\n",
      "\n",
      "See the caveats in the documentation: http://pandas.pydata.org/pandas-docs/stable/indexing.html#indexing-view-versus-copy\n"
     ]
    },
    {
     "name": "stdout",
     "output_type": "stream",
     "text": [
      "Total numer of triggers: 1014917\n",
      "Total numer of valid events: 14976\n"
     ]
    },
    {
     "name": "stderr",
     "output_type": "stream",
     "text": [
      "/Library/Frameworks/Python.framework/Versions/3.6/lib/python3.6/site-packages/ipykernel_launcher.py:31: SettingWithCopyWarning: \n",
      "A value is trying to be set on a copy of a slice from a DataFrame.\n",
      "Try using .loc[row_indexer,col_indexer] = value instead\n",
      "\n",
      "See the caveats in the documentation: http://pandas.pydata.org/pandas-docs/stable/indexing.html#indexing-view-versus-copy\n"
     ]
    }
   ],
   "source": [
    "#=====================================\n",
    "# Apply first selection and add time variables to main dataframe\n",
    "#=====================================\n",
    "\n",
    "data_used = data[(data.p0_1!=4095) | (data.p0_2!=4095) | (data.p1_1!=4095) | (data.p1_2!=4095) | (data.p2_1!=4095) | (data.p2_2!=4095)]\n",
    "data_used = conv_time(data_used)\n",
    "print('Total numer of triggers:', len(data))\n",
    "print('Total numer of valid events:', len(data_used))\n",
    "#data_used.head()"
   ]
  },
  {
   "cell_type": "code",
   "execution_count": null,
   "metadata": {},
   "outputs": [],
   "source": []
  },
  {
   "cell_type": "code",
   "execution_count": 76,
   "metadata": {},
   "outputs": [
    {
     "name": "stdout",
     "output_type": "stream",
     "text": [
      "P0 events: 526\n"
     ]
    },
    {
     "data": {
      "image/png": "[encoded data removed]",
      "text/plain": [
       "<Figure size 432x288 with 1 Axes>"
      ]
     },
     "metadata": {},
     "output_type": "display_data"
    }
   ],
   "source": [
    "# esegue taglio piano 0 \n",
    "p0 = cut_p0(data_used)\n",
    "p0 = p0['p0_time']\n",
    "print('P0 events:', len(p0))\n",
    "\n",
    "# istogramma taglio\n",
    "plt.hist(p0, bins=100, label='p0')\n",
    "plt.xlabel('Time [ns]')\n",
    "plt.ylabel('Events')\n",
    "plt.legend()\n",
    "plt.show()"
   ]
  },
  {
   "cell_type": "code",
   "execution_count": 77,
   "metadata": {},
   "outputs": [
    {
     "name": "stdout",
     "output_type": "stream",
     "text": [
      "P1 events: 11732\n"
     ]
    },
    {
     "data": {
      "image/png": "[encoded data removed]",
      "text/plain": [
       "<Figure size 432x288 with 1 Axes>"
      ]
     },
     "metadata": {},
     "output_type": "display_data"
    }
   ],
   "source": [
    "# esegue taglio piano 1\n",
    "p1 = cut_p1(data_used)\n",
    "p1 = p1['p1_time']\n",
    "print('P1 events:', len(p1))\n",
    "\n",
    "# istogramma taglio\n",
    "plt.hist(p1, bins=100, label='p1')\n",
    "plt.xlabel('Time [ns]')\n",
    "plt.ylabel('Events')\n",
    "plt.legend()\n",
    "plt.show()"
   ]
  },
  {
   "cell_type": "code",
   "execution_count": 117,
   "metadata": {},
   "outputs": [
    {
     "name": "stdout",
     "output_type": "stream",
     "text": [
      "P2 events: 1579\n"
     ]
    },
    {
     "data": {
      "image/png": "[encoded data removed]",
      "text/plain": [
       "<Figure size 432x288 with 1 Axes>"
      ]
     },
     "metadata": {},
     "output_type": "display_data"
    }
   ],
   "source": [
    "# esegue taglio piano 2\n",
    "p2 = cut_p2(data_used)\n",
    "p2 = p2['p2_time']\n",
    "print('P2 events:', len(p2))\n",
    "\n",
    "# istogramma taglio\n",
    "plt.hist(p2, bins=100, label='p2')\n",
    "plt.xlabel('Time [ns]')\n",
    "plt.ylabel('Events')\n",
    "plt.legend()\n",
    "plt.show()"
   ]
  },
  {
   "cell_type": "code",
   "execution_count": 125,
   "metadata": {},
   "outputs": [
    {
     "name": "stdout",
     "output_type": "stream",
     "text": [
      "Events used: 12441\n",
      "Events: 13399\n"
     ]
    },
    {
     "data": {
      "image/png": "[encoded data removed]",
      "text/plain": [
       "<Figure size 432x288 with 1 Axes>"
      ]
     },
     "metadata": {},
     "output_type": "display_data"
    }
   ],
   "source": [
    "# esegue taglio: segnale su 1 ma non su 2, 0 indifferente + segnale su 2 ma non su 0 e 1\n",
    "p_ms = cut_muon_soft(data_used)\n",
    "p_ms1 = p_ms['p1_time'][(p_ms.p0_1==4095) & (p_ms.p0_2==4095)]\n",
    "p_ms1 = p_ms1.rename(columns={'p1_time':'time'})\n",
    "p_ms0 = p_ms['p0_time'][(p_ms.p1_1!=4095) & (p_ms.p1_2!=4095)]\n",
    "p_ms0 = p_ms0.rename(columns={'p0_time':'time'})\n",
    "p2 = p2.rename(columns={'p2_time':'time'})\n",
    "p_merged = pd.concat([p_ms1,p_ms0,p2])\n",
    "\n",
    "print('Events used:', len(p_ms))\n",
    "print('Events:', len(p_merged))\n",
    "\n",
    "# istogramma taglio\n",
    "plt.hist(p_merged, bins=100, label='soft')\n",
    "plt.xlabel('Time [ns]')\n",
    "plt.ylabel('Events')\n",
    "plt.legend()\n",
    "plt.show()"
   ]
  },
  {
   "cell_type": "code",
   "execution_count": null,
   "metadata": {},
   "outputs": [],
   "source": []
  }
 ],
 "metadata": {
  "kernelspec": {
   "display_name": "Python 3",
   "language": "python",
   "name": "python3"
  },
  "language_info": {
   "codemirror_mode": {
    "name": "ipython",
    "version": 3
   },
   "file_extension": ".py",
   "mimetype": "text/x-python",
   "name": "python",
   "nbconvert_exporter": "python",
   "pygments_lexer": "ipython3",
   "version": "3.6.4"
  }
 },
 "nbformat": 4,
 "nbformat_minor": 2
}
