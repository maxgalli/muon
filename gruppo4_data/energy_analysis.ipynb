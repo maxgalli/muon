{
 "cells": [
  {
   "cell_type": "code",
   "execution_count": 67,
   "metadata": {},
   "outputs": [],
   "source": [
    "import numpy as np\n",
    "import matplotlib\n",
    "import matplotlib.pyplot as plt\n",
    "from matplotlib import gridspec            # to arrange the plots nicely\n",
    "import pandas as pd\n",
    "import math\n",
    "from scipy.optimize import curve_fit\n",
    "\n",
    "%matplotlib inline\n",
    "plt.style.use('tableau-colorblind10')"
   ]
  },
  {
   "cell_type": "code",
   "execution_count": 68,
   "metadata": {},
   "outputs": [
    {
     "name": "stderr",
     "output_type": "stream",
     "text": [
      "/Library/Frameworks/Python.framework/Versions/3.6/lib/python3.6/site-packages/pandas/io/parsers.py:678: UserWarning: Duplicate names specified. This will raise an error in the future.\n",
      "  return _read(filepath_or_buffer, kwds)\n",
      "/Library/Frameworks/Python.framework/Versions/3.6/lib/python3.6/site-packages/ipykernel_launcher.py:4: ParserWarning: Falling back to the 'python' engine because the 'c' engine does not support regex separators (separators > 1 char and different from '\\s+' are interpreted as regex); you can avoid this warning by specifying engine='python'.\n",
      "  after removing the cwd from sys.path.\n"
     ]
    },
    {
     "name": "stdout",
     "output_type": "stream",
     "text": [
      "Total number of events: 54064\n"
     ]
    },
    {
     "data": {
      "text/html": [
       "<div>\n",
       "<style scoped>\n",
       "    .dataframe tbody tr th:only-of-type {\n",
       "        vertical-align: middle;\n",
       "    }\n",
       "\n",
       "    .dataframe tbody tr th {\n",
       "        vertical-align: top;\n",
       "    }\n",
       "\n",
       "    .dataframe thead th {\n",
       "        text-align: right;\n",
       "    }\n",
       "</style>\n",
       "<table border=\"1\" class=\"dataframe\">\n",
       "  <thead>\n",
       "    <tr style=\"text-align: right;\">\n",
       "      <th></th>\n",
       "      <th>L00_ris1</th>\n",
       "      <th>R00_ris1</th>\n",
       "      <th>L10_ris1</th>\n",
       "      <th>R10_ris1</th>\n",
       "      <th>L20_ris1</th>\n",
       "      <th>R20_ris1</th>\n",
       "      <th>stuff</th>\n",
       "      <th>stuff.1</th>\n",
       "      <th>stuff.2</th>\n",
       "      <th>stuff.3</th>\n",
       "      <th>...</th>\n",
       "      <th>stuff.12</th>\n",
       "      <th>stuff.13</th>\n",
       "      <th>stuff.14</th>\n",
       "      <th>stuff.15</th>\n",
       "      <th>stuff.16</th>\n",
       "      <th>stuff.17</th>\n",
       "      <th>stuff.18</th>\n",
       "      <th>stuff.19</th>\n",
       "      <th>broken</th>\n",
       "      <th>broken.1</th>\n",
       "    </tr>\n",
       "  </thead>\n",
       "  <tbody>\n",
       "    <tr>\n",
       "      <th>0</th>\n",
       "      <td>0</td>\n",
       "      <td>0</td>\n",
       "      <td>0</td>\n",
       "      <td>0</td>\n",
       "      <td>0</td>\n",
       "      <td>0</td>\n",
       "      <td>0</td>\n",
       "      <td>0</td>\n",
       "      <td>0</td>\n",
       "      <td>0</td>\n",
       "      <td>...</td>\n",
       "      <td>0</td>\n",
       "      <td>0</td>\n",
       "      <td>0</td>\n",
       "      <td>0</td>\n",
       "      <td>0</td>\n",
       "      <td>0</td>\n",
       "      <td>0</td>\n",
       "      <td>0</td>\n",
       "      <td>0</td>\n",
       "      <td>33</td>\n",
       "    </tr>\n",
       "    <tr>\n",
       "      <th>1</th>\n",
       "      <td>4095</td>\n",
       "      <td>4095</td>\n",
       "      <td>3712</td>\n",
       "      <td>4095</td>\n",
       "      <td>4041</td>\n",
       "      <td>4095</td>\n",
       "      <td>3715</td>\n",
       "      <td>4095</td>\n",
       "      <td>4095</td>\n",
       "      <td>4095</td>\n",
       "      <td>...</td>\n",
       "      <td>0</td>\n",
       "      <td>0</td>\n",
       "      <td>0</td>\n",
       "      <td>0</td>\n",
       "      <td>0</td>\n",
       "      <td>0</td>\n",
       "      <td>0</td>\n",
       "      <td>0</td>\n",
       "      <td>0</td>\n",
       "      <td>33</td>\n",
       "    </tr>\n",
       "    <tr>\n",
       "      <th>2</th>\n",
       "      <td>524</td>\n",
       "      <td>3928</td>\n",
       "      <td>403</td>\n",
       "      <td>3024</td>\n",
       "      <td>489</td>\n",
       "      <td>3667</td>\n",
       "      <td>655</td>\n",
       "      <td>4095</td>\n",
       "      <td>756</td>\n",
       "      <td>4095</td>\n",
       "      <td>...</td>\n",
       "      <td>53</td>\n",
       "      <td>402</td>\n",
       "      <td>53</td>\n",
       "      <td>401</td>\n",
       "      <td>52</td>\n",
       "      <td>397</td>\n",
       "      <td>52</td>\n",
       "      <td>395</td>\n",
       "      <td>0</td>\n",
       "      <td>33</td>\n",
       "    </tr>\n",
       "    <tr>\n",
       "      <th>3</th>\n",
       "      <td>524</td>\n",
       "      <td>3924</td>\n",
       "      <td>203</td>\n",
       "      <td>1524</td>\n",
       "      <td>523</td>\n",
       "      <td>3916</td>\n",
       "      <td>328</td>\n",
       "      <td>2461</td>\n",
       "      <td>530</td>\n",
       "      <td>3968</td>\n",
       "      <td>...</td>\n",
       "      <td>53</td>\n",
       "      <td>402</td>\n",
       "      <td>52</td>\n",
       "      <td>398</td>\n",
       "      <td>52</td>\n",
       "      <td>399</td>\n",
       "      <td>51</td>\n",
       "      <td>393</td>\n",
       "      <td>0</td>\n",
       "      <td>33</td>\n",
       "    </tr>\n",
       "    <tr>\n",
       "      <th>4</th>\n",
       "      <td>641</td>\n",
       "      <td>4095</td>\n",
       "      <td>385</td>\n",
       "      <td>2885</td>\n",
       "      <td>348</td>\n",
       "      <td>2612</td>\n",
       "      <td>455</td>\n",
       "      <td>3407</td>\n",
       "      <td>528</td>\n",
       "      <td>3957</td>\n",
       "      <td>...</td>\n",
       "      <td>53</td>\n",
       "      <td>402</td>\n",
       "      <td>52</td>\n",
       "      <td>400</td>\n",
       "      <td>53</td>\n",
       "      <td>400</td>\n",
       "      <td>51</td>\n",
       "      <td>394</td>\n",
       "      <td>0</td>\n",
       "      <td>33</td>\n",
       "    </tr>\n",
       "  </tbody>\n",
       "</table>\n",
       "<p>5 rows × 34 columns</p>\n",
       "</div>"
      ],
      "text/plain": [
       "   L00_ris1  R00_ris1  L10_ris1  R10_ris1  L20_ris1  R20_ris1  stuff  stuff.1  \\\n",
       "0         0         0         0         0         0         0      0        0   \n",
       "1      4095      4095      3712      4095      4041      4095   3715     4095   \n",
       "2       524      3928       403      3024       489      3667    655     4095   \n",
       "3       524      3924       203      1524       523      3916    328     2461   \n",
       "4       641      4095       385      2885       348      2612    455     3407   \n",
       "\n",
       "   stuff.2  stuff.3    ...     stuff.12  stuff.13  stuff.14  stuff.15  \\\n",
       "0        0        0    ...            0         0         0         0   \n",
       "1     4095     4095    ...            0         0         0         0   \n",
       "2      756     4095    ...           53       402        53       401   \n",
       "3      530     3968    ...           53       402        52       398   \n",
       "4      528     3957    ...           53       402        52       400   \n",
       "\n",
       "   stuff.16  stuff.17  stuff.18  stuff.19  broken  broken.1  \n",
       "0         0         0         0         0       0        33  \n",
       "1         0         0         0         0       0        33  \n",
       "2        52       397        52       395       0        33  \n",
       "3        52       399        51       393       0        33  \n",
       "4        53       400        51       394       0        33  \n",
       "\n",
       "[5 rows x 34 columns]"
      ]
     },
     "execution_count": 68,
     "metadata": {},
     "output_type": "execute_result"
    }
   ],
   "source": [
    "#=====================================\n",
    "# Load txt file to pandas dataframe\n",
    "#=====================================\n",
    "data_raw = pd.read_csv('adc.txt', sep='\\s', names=['L00_ris1', 'R00_ris1', 'L10_ris1', 'R10_ris1', 'L20_ris1', 'R20_ris1', 'stuff', 'stuff', 'stuff', 'stuff', 'stuff', 'stuff', 'stuff', 'stuff', 'stuff', 'stuff', 'L00_ris2', 'R00_ris2', 'L10_ris2', 'R10_ris2', 'L20_ris2', 'R20_ris2', 'stuff', 'stuff', 'stuff', 'stuff', 'stuff', 'stuff', 'stuff', 'stuff', 'stuff', 'stuff', 'broken', 'broken'])\n",
    "\n",
    "print('Total number of events:', len(data_raw))\n",
    "data_raw.head()"
   ]
  },
  {
   "cell_type": "code",
   "execution_count": 69,
   "metadata": {},
   "outputs": [],
   "source": [
    "# keeps only necessary\n",
    "\n",
    "data_ris1 = data_raw[['L00_ris1', 'R00_ris1', 'L10_ris1', 'R10_ris1', 'L20_ris1', 'R20_ris1']]\n",
    "data_ris1 = data_ris1.rename(columns={'L00_ris1':'L00', 'R00_ris1':'R00', 'L10_ris1':'L10', 'R10_ris1':'R10', 'L20_ris1':'L20', 'R20_ris1':'R20'})\n",
    "data_ris2 = data_raw[['L00_ris2', 'R00_ris2', 'L10_ris2', 'R10_ris2', 'L20_ris2', 'R20_ris2']]\n",
    "data_ris2 = data_ris2.rename(columns={'L00_ris2':'L00', 'R00_ris2':'R00', 'L10_ris2':'L10', 'R10_ris2':'R10', 'L20_ris2':'L20', 'R20_ris2':'R20'})"
   ]
  },
  {
   "cell_type": "code",
   "execution_count": 70,
   "metadata": {},
   "outputs": [],
   "source": [
    "# convert function\n",
    "def convert_to_pc (d, full_scale_pc, res):\n",
    "    pc = d*full_scale_pc/res\n",
    "    return pc\n",
    "\n",
    "# landau"
   ]
  },
  {
   "cell_type": "code",
   "execution_count": 71,
   "metadata": {},
   "outputs": [
    {
     "data": {
      "text/html": [
       "<div>\n",
       "<style scoped>\n",
       "    .dataframe tbody tr th:only-of-type {\n",
       "        vertical-align: middle;\n",
       "    }\n",
       "\n",
       "    .dataframe tbody tr th {\n",
       "        vertical-align: top;\n",
       "    }\n",
       "\n",
       "    .dataframe thead th {\n",
       "        text-align: right;\n",
       "    }\n",
       "</style>\n",
       "<table border=\"1\" class=\"dataframe\">\n",
       "  <thead>\n",
       "    <tr style=\"text-align: right;\">\n",
       "      <th></th>\n",
       "      <th>L00</th>\n",
       "      <th>R00</th>\n",
       "      <th>L10</th>\n",
       "      <th>R10</th>\n",
       "      <th>L20</th>\n",
       "      <th>R20</th>\n",
       "    </tr>\n",
       "  </thead>\n",
       "  <tbody>\n",
       "    <tr>\n",
       "      <th>0</th>\n",
       "      <td>0.000000</td>\n",
       "      <td>0.000000</td>\n",
       "      <td>0.000000</td>\n",
       "      <td>0.000000</td>\n",
       "      <td>0.000000</td>\n",
       "      <td>0.000000</td>\n",
       "    </tr>\n",
       "    <tr>\n",
       "      <th>1</th>\n",
       "      <td>0.000000</td>\n",
       "      <td>0.000000</td>\n",
       "      <td>0.000000</td>\n",
       "      <td>0.000000</td>\n",
       "      <td>0.000000</td>\n",
       "      <td>0.000000</td>\n",
       "    </tr>\n",
       "    <tr>\n",
       "      <th>2</th>\n",
       "      <td>9.362793</td>\n",
       "      <td>71.252441</td>\n",
       "      <td>8.569336</td>\n",
       "      <td>65.222168</td>\n",
       "      <td>9.521484</td>\n",
       "      <td>72.045898</td>\n",
       "    </tr>\n",
       "    <tr>\n",
       "      <th>3</th>\n",
       "      <td>9.362793</td>\n",
       "      <td>70.935059</td>\n",
       "      <td>8.569336</td>\n",
       "      <td>65.063477</td>\n",
       "      <td>9.521484</td>\n",
       "      <td>72.045898</td>\n",
       "    </tr>\n",
       "    <tr>\n",
       "      <th>4</th>\n",
       "      <td>9.204102</td>\n",
       "      <td>70.935059</td>\n",
       "      <td>8.569336</td>\n",
       "      <td>65.222168</td>\n",
       "      <td>9.521484</td>\n",
       "      <td>71.887207</td>\n",
       "    </tr>\n",
       "  </tbody>\n",
       "</table>\n",
       "</div>"
      ],
      "text/plain": [
       "        L00        R00       L10        R10       L20        R20\n",
       "0  0.000000   0.000000  0.000000   0.000000  0.000000   0.000000\n",
       "1  0.000000   0.000000  0.000000   0.000000  0.000000   0.000000\n",
       "2  9.362793  71.252441  8.569336  65.222168  9.521484  72.045898\n",
       "3  9.362793  70.935059  8.569336  65.063477  9.521484  72.045898\n",
       "4  9.204102  70.935059  8.569336  65.222168  9.521484  71.887207"
      ]
     },
     "execution_count": 71,
     "metadata": {},
     "output_type": "execute_result"
    }
   ],
   "source": [
    "# make convertion\n",
    "data_pc1 = convert_to_pc(data_ris1,650,4096)\n",
    "data_pc1.head()\n",
    "data_pc2 = convert_to_pc(data_ris2,650,4096)\n",
    "data_pc2.head()"
   ]
  },
  {
   "cell_type": "code",
   "execution_count": 33,
   "metadata": {},
   "outputs": [
    {
     "data": {
      "image/png": "[encoded data removed]",
      "text/plain": [
       "<Figure size 432x288 with 1 Axes>"
      ]
     },
     "metadata": {},
     "output_type": "display_data"
    }
   ],
   "source": [
    "plt.hist(data_pc1['L00'], bins=100, label='L00_ris1')\n",
    "plt.show()"
   ]
  },
  {
   "cell_type": "code",
   "execution_count": null,
   "metadata": {},
   "outputs": [],
   "source": [
    "data_pc1['L00'].to_csv('energy.txt', index = False)"
   ]
  },
  {
   "cell_type": "code",
   "execution_count": 74,
   "metadata": {},
   "outputs": [
    {
     "data": {
      "image/png": "[encoded data removed]",
      "text/plain": [
       "<Figure size 432x288 with 1 Axes>"
      ]
     },
     "metadata": {},
     "output_type": "display_data"
    }
   ],
   "source": [
    "#data_pc1m=data_pc1[data_pc1['R00']<649.8]\n",
    "plt.hist(data_pc1['R00'], bins=100, label='R00_ris1')\n",
    "plt.show()"
   ]
  },
  {
   "cell_type": "code",
   "execution_count": 75,
   "metadata": {},
   "outputs": [],
   "source": [
    "data_pc1['R00'].to_csv('energy_R00.txt', index = False)"
   ]
  },
  {
   "cell_type": "code",
   "execution_count": 72,
   "metadata": {},
   "outputs": [
    {
     "data": {
      "image/png": "[encoded data removed]",
      "text/plain": [
       "<Figure size 432x288 with 1 Axes>"
      ]
     },
     "metadata": {},
     "output_type": "display_data"
    }
   ],
   "source": [
    "plt.hist(data_pc1['L10'], bins=100, label='L10_ris1')\n",
    "plt.show()"
   ]
  },
  {
   "cell_type": "code",
   "execution_count": 73,
   "metadata": {},
   "outputs": [],
   "source": [
    "data_pc1['L10'].to_csv('energy_L10.txt', index = False)"
   ]
  },
  {
   "cell_type": "code",
   "execution_count": 76,
   "metadata": {},
   "outputs": [
    {
     "data": {
      "image/png": "[encoded data removed]",
      "text/plain": [
       "<Figure size 432x288 with 1 Axes>"
      ]
     },
     "metadata": {},
     "output_type": "display_data"
    }
   ],
   "source": [
    "#data_pc1m=data_pc1[data_pc1['R10']<649.8]\n",
    "plt.hist(data_pc1['R10'], bins=100, label='R10_ris1')\n",
    "plt.show()"
   ]
  },
  {
   "cell_type": "code",
   "execution_count": 77,
   "metadata": {},
   "outputs": [],
   "source": [
    "data_pc1['R10'].to_csv('energy_R10.txt', index = False)"
   ]
  },
  {
   "cell_type": "code",
   "execution_count": 63,
   "metadata": {},
   "outputs": [
    {
     "data": {
      "image/png": "[encoded data removed]",
      "text/plain": [
       "<Figure size 432x288 with 1 Axes>"
      ]
     },
     "metadata": {},
     "output_type": "display_data"
    }
   ],
   "source": [
    "plt.hist(data_pc1['L20'], bins=100, label='L20_ris1')\n",
    "plt.show()"
   ]
  },
  {
   "cell_type": "code",
   "execution_count": 64,
   "metadata": {},
   "outputs": [],
   "source": [
    "data_pc1['L20'].to_csv('energy_L20.txt', index = False)"
   ]
  },
  {
   "cell_type": "code",
   "execution_count": 78,
   "metadata": {},
   "outputs": [
    {
     "data": {
      "image/png": "[encoded data removed]",
      "text/plain": [
       "<Figure size 432x288 with 1 Axes>"
      ]
     },
     "metadata": {},
     "output_type": "display_data"
    }
   ],
   "source": [
    "#data_pc1=data_pc1[data_pc1['R20']<649.8]\n",
    "plt.hist(data_pc1['R20'], bins=100, label='R20_ris1')\n",
    "plt.show()"
   ]
  },
  {
   "cell_type": "code",
   "execution_count": 79,
   "metadata": {},
   "outputs": [],
   "source": [
    "data_pc1['R20'].to_csv('energy_R20.txt', index = False)"
   ]
  }
 ],
 "metadata": {
  "kernelspec": {
   "display_name": "Python 3",
   "language": "python",
   "name": "python3"
  },
  "language_info": {
   "codemirror_mode": {
    "name": "ipython",
    "version": 3
   },
   "file_extension": ".py",
   "mimetype": "text/x-python",
   "name": "python",
   "nbconvert_exporter": "python",
   "pygments_lexer": "ipython3",
   "version": "3.6.4"
  }
 },
 "nbformat": 4,
 "nbformat_minor": 2
}
